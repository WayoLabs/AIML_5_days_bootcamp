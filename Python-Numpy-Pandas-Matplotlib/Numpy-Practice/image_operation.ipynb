{
 "cells": [
  {
   "cell_type": "code",
   "execution_count": 2,
   "metadata": {},
   "outputs": [],
   "source": [
    "from PIL import Image\n",
    "import numpy as np\n",
    "\n",
    "# Load image using Pillow\n",
    "img = Image.open(\"zuzu.jpg\")  # Replace with your image path\n",
    "img = img.convert(\"RGB\")            # Ensure it's RGB\n",
    "\n",
    "# Convert to NumPy array\n",
    "img_array = np.array(img)\n",
    "\n",
    "# Increase brightness by 50 (clip to max 255)\n",
    "bright_img = np.clip(img_array + 50, 0, 255).astype(np.uint8)\n",
    "\n",
    "# Convert back to Image\n",
    "bright_img_pil = Image.fromarray(bright_img)\n",
    "\n",
    "# Save or show the image\n",
    "bright_img_pil.save(\"brightened_image.jpg\")\n",
    "bright_img_pil.show()"
   ]
  }
 ],
 "metadata": {
  "kernelspec": {
   "display_name": "tf_env",
   "language": "python",
   "name": "python3"
  },
  "language_info": {
   "codemirror_mode": {
    "name": "ipython",
    "version": 3
   },
   "file_extension": ".py",
   "mimetype": "text/x-python",
   "name": "python",
   "nbconvert_exporter": "python",
   "pygments_lexer": "ipython3",
   "version": "3.9.21"
  }
 },
 "nbformat": 4,
 "nbformat_minor": 2
}
